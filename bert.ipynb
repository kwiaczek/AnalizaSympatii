{
 "cells": [
  {
   "cell_type": "code",
   "execution_count": 247,
   "metadata": {},
   "outputs": [],
   "source": [
    "import tensorflow as tf\n",
    "import tensorflow_hub as hub\n",
    "import tensorflow_text as text\n",
    "from official.nlp import optimization  # to create AdamW optimizer\n",
    "\n",
    "\n",
    "import pandas as pd\n",
    "import numpy as np\n",
    "from sklearn.preprocessing import LabelBinarizer"
   ]
  },
  {
   "cell_type": "code",
   "execution_count": 248,
   "metadata": {},
   "outputs": [],
   "source": [
    "np.random.seed(42)"
   ]
  },
  {
   "cell_type": "code",
   "execution_count": 249,
   "metadata": {},
   "outputs": [],
   "source": [
    "raw_dataset = pd.read_csv(\"data/file.csv\", index_col=0).to_numpy()"
   ]
  },
  {
   "cell_type": "code",
   "execution_count": 250,
   "metadata": {},
   "outputs": [],
   "source": [
    "np.random.shuffle(raw_dataset)"
   ]
  },
  {
   "cell_type": "code",
   "execution_count": 251,
   "metadata": {},
   "outputs": [],
   "source": [
    "WHOLE_DATASET_LEN = 20000\n",
    "lb = LabelBinarizer()\n",
    "X, y  = raw_dataset[:, 0], lb.fit_transform(raw_dataset[:, 1])\n",
    "X, y  = X[:WHOLE_DATASET_LEN], y[:WHOLE_DATASET_LEN]"
   ]
  },
  {
   "cell_type": "code",
   "execution_count": 252,
   "metadata": {},
   "outputs": [],
   "source": [
    "X_train, X_test = X[:int(WHOLE_DATASET_LEN*0.7)], X[int(WHOLE_DATASET_LEN*0.7):]\n",
    "y_train, y_test = y[:int(WHOLE_DATASET_LEN*0.7)], y[int(WHOLE_DATASET_LEN*0.7):]"
   ]
  },
  {
   "cell_type": "code",
   "execution_count": 253,
   "metadata": {},
   "outputs": [],
   "source": [
    "test_set_len = int(len(X_test) * 0.7)\n",
    "X_test, X_valid = X_test[:test_set_len], X_test[test_set_len:]\n",
    "y_test, y_valid = y_test[:test_set_len], y_test[test_set_len:]"
   ]
  },
  {
   "attachments": {},
   "cell_type": "markdown",
   "metadata": {},
   "source": [
    "# BERT"
   ]
  },
  {
   "cell_type": "code",
   "execution_count": 254,
   "metadata": {},
   "outputs": [],
   "source": [
    "#tiny bert l=2 h=128\n",
    "tiny_bert_model_url = \"https://tfhub.dev/tensorflow/small_bert/bert_en_uncased_L-2_H-128_A-2/2\"\n",
    "bert_preprocessor_url = \"https://tfhub.dev/tensorflow/bert_en_uncased_preprocess/3\""
   ]
  },
  {
   "cell_type": "code",
   "execution_count": 255,
   "metadata": {},
   "outputs": [],
   "source": [
    "def build_bert_model(preprocessor_url, model_url):\n",
    "    text_input = tf.keras.layers.Input(shape=(), dtype=tf.string, name='text')\n",
    "    preprocessing_layer = hub.KerasLayer(bert_preprocessor_url, name='preprocessing')\n",
    "    encoder_inputs = preprocessing_layer(text_input)\n",
    "    encoder = hub.KerasLayer(tiny_bert_model_url, trainable=True, name='BERT_encoder')\n",
    "    outputs = encoder(encoder_inputs)\n",
    "    net = outputs['pooled_output']\n",
    "    net = tf.keras.layers.Dropout(0.1)(net)\n",
    "    net = tf.keras.layers.Dense(3, activation=\"softmax\", name='classifier')(net)\n",
    "    return tf.keras.Model(text_input, net)"
   ]
  },
  {
   "cell_type": "code",
   "execution_count": 256,
   "metadata": {},
   "outputs": [],
   "source": [
    "tiny_bert_model = build_bert_model(bert_preprocessor_url, tiny_bert_model_url)"
   ]
  },
  {
   "cell_type": "code",
   "execution_count": 257,
   "metadata": {},
   "outputs": [],
   "source": [
    "loss = tf.keras.losses.CategoricalCrossentropy()\n",
    "metric = tf.keras.metrics.CategoricalCrossentropy()"
   ]
  },
  {
   "cell_type": "code",
   "execution_count": 258,
   "metadata": {},
   "outputs": [],
   "source": [
    "epochs = 8 \n",
    "steps_pre_epoch = len(X_train) \n",
    "num_train_steps = steps_pre_epoch * epochs\n",
    "num_warmup_steps = int(0.1 * num_train_steps)\n",
    "\n",
    "init_lr = 3e-5\n",
    "optimizer = optimization.create_optimizer(\n",
    "    init_lr = init_lr,\n",
    "    num_train_steps=num_train_steps,\n",
    "    num_warmup_steps=num_warmup_steps,\n",
    "    optimizer_type='adamw'\n",
    ")"
   ]
  },
  {
   "cell_type": "code",
   "execution_count": 259,
   "metadata": {},
   "outputs": [],
   "source": [
    "tiny_bert_model.compile(optimizer=optimizer, loss=loss, metrics=[metric, 'accuracy'])"
   ]
  },
  {
   "cell_type": "code",
   "execution_count": 260,
   "metadata": {},
   "outputs": [
    {
     "name": "stdout",
     "output_type": "stream",
     "text": [
      "Epoch 1/8\n",
      "438/438 [==============================] - 71s 159ms/step - loss: 1.2780 - categorical_crossentropy: 1.2780 - accuracy: 0.3296 - val_loss: 1.1253 - val_categorical_crossentropy: 1.1253 - val_accuracy: 0.4217\n",
      "Epoch 2/8\n",
      "438/438 [==============================] - 68s 155ms/step - loss: 1.1074 - categorical_crossentropy: 1.1074 - accuracy: 0.4366 - val_loss: 1.0473 - val_categorical_crossentropy: 1.0473 - val_accuracy: 0.4811\n",
      "Epoch 3/8\n",
      "438/438 [==============================] - 70s 161ms/step - loss: 1.0585 - categorical_crossentropy: 1.0585 - accuracy: 0.4812 - val_loss: 1.0110 - val_categorical_crossentropy: 1.0110 - val_accuracy: 0.5078\n",
      "Epoch 4/8\n",
      "438/438 [==============================] - 66s 150ms/step - loss: 1.0280 - categorical_crossentropy: 1.0280 - accuracy: 0.5012 - val_loss: 0.9896 - val_categorical_crossentropy: 0.9896 - val_accuracy: 0.5344\n",
      "Epoch 5/8\n",
      "438/438 [==============================] - 65s 149ms/step - loss: 1.0140 - categorical_crossentropy: 1.0140 - accuracy: 0.5137 - val_loss: 0.9757 - val_categorical_crossentropy: 0.9757 - val_accuracy: 0.5522\n",
      "Epoch 6/8\n",
      "438/438 [==============================] - 65s 149ms/step - loss: 0.9886 - categorical_crossentropy: 0.9886 - accuracy: 0.5291 - val_loss: 0.9365 - val_categorical_crossentropy: 0.9365 - val_accuracy: 0.5622\n",
      "Epoch 7/8\n",
      "438/438 [==============================] - 67s 153ms/step - loss: 0.9481 - categorical_crossentropy: 0.9481 - accuracy: 0.5551 - val_loss: 0.8718 - val_categorical_crossentropy: 0.8718 - val_accuracy: 0.5956\n",
      "Epoch 8/8\n",
      "438/438 [==============================] - 66s 151ms/step - loss: 0.8868 - categorical_crossentropy: 0.8868 - accuracy: 0.5895 - val_loss: 0.8010 - val_categorical_crossentropy: 0.8010 - val_accuracy: 0.6383\n"
     ]
    }
   ],
   "source": [
    "tiny_bert_model_history = tiny_bert_model.fit(x=X_train, y=y_train,  validation_data=(X_valid, y_valid), epochs=epochs)"
   ]
  },
  {
   "cell_type": "code",
   "execution_count": 261,
   "metadata": {},
   "outputs": [
    {
     "name": "stdout",
     "output_type": "stream",
     "text": [
      "132/132 [==============================] - 5s 41ms/step - loss: 0.8046 - categorical_crossentropy: 0.8046 - accuracy: 0.6350\n"
     ]
    },
    {
     "data": {
      "text/plain": [
       "[0.8046244382858276, 0.8046244382858276, 0.6349999904632568]"
      ]
     },
     "execution_count": 261,
     "metadata": {},
     "output_type": "execute_result"
    }
   ],
   "source": [
    "tiny_bert_model.evaluate(X_test,y_test)"
   ]
  },
  {
   "cell_type": "code",
   "execution_count": 262,
   "metadata": {},
   "outputs": [],
   "source": [
    "mini_bert_model_url = \"https://tfhub.dev/tensorflow/small_bert/bert_en_uncased_L-4_H-256_A-4/2\""
   ]
  },
  {
   "cell_type": "code",
   "execution_count": 263,
   "metadata": {},
   "outputs": [],
   "source": [
    "mini_bert_model = build_bert_model(bert_preprocessor_url, tiny_bert_model_url)\n"
   ]
  },
  {
   "cell_type": "code",
   "execution_count": 264,
   "metadata": {},
   "outputs": [],
   "source": [
    "mini_bert_model.compile(optimizer=optimizer, loss=loss, metrics=[metric, 'accuracy'])"
   ]
  },
  {
   "cell_type": "code",
   "execution_count": 265,
   "metadata": {},
   "outputs": [
    {
     "name": "stdout",
     "output_type": "stream",
     "text": [
      "Epoch 1/8\n",
      "438/438 [==============================] - 70s 155ms/step - loss: 1.0107 - categorical_crossentropy: 0.9631 - accuracy: 0.5151 - val_loss: 0.8908 - val_categorical_crossentropy: 0.8908 - val_accuracy: 0.5850\n",
      "Epoch 2/8\n",
      "438/438 [==============================] - 68s 156ms/step - loss: 0.8729 - categorical_crossentropy: 0.8729 - accuracy: 0.5975 - val_loss: 0.7948 - val_categorical_crossentropy: 0.7948 - val_accuracy: 0.6594\n",
      "Epoch 3/8\n",
      "438/438 [==============================] - 68s 156ms/step - loss: 0.7885 - categorical_crossentropy: 0.7885 - accuracy: 0.6434 - val_loss: 0.7072 - val_categorical_crossentropy: 0.7072 - val_accuracy: 0.6789\n",
      "Epoch 4/8\n",
      "438/438 [==============================] - 66s 151ms/step - loss: 0.7240 - categorical_crossentropy: 0.7240 - accuracy: 0.6820 - val_loss: 0.6733 - val_categorical_crossentropy: 0.6733 - val_accuracy: 0.7028\n",
      "Epoch 5/8\n",
      "438/438 [==============================] - 65s 147ms/step - loss: 0.6782 - categorical_crossentropy: 0.6782 - accuracy: 0.7086 - val_loss: 0.6265 - val_categorical_crossentropy: 0.6265 - val_accuracy: 0.7400\n",
      "Epoch 6/8\n",
      "438/438 [==============================] - 67s 154ms/step - loss: 0.6344 - categorical_crossentropy: 0.6344 - accuracy: 0.7316 - val_loss: 0.5999 - val_categorical_crossentropy: 0.5999 - val_accuracy: 0.7644\n",
      "Epoch 7/8\n",
      "438/438 [==============================] - 67s 152ms/step - loss: 0.5989 - categorical_crossentropy: 0.5989 - accuracy: 0.7486 - val_loss: 0.5849 - val_categorical_crossentropy: 0.5849 - val_accuracy: 0.7711\n",
      "Epoch 8/8\n",
      "438/438 [==============================] - 65s 149ms/step - loss: 0.5624 - categorical_crossentropy: 0.5624 - accuracy: 0.7705 - val_loss: 0.5639 - val_categorical_crossentropy: 0.5639 - val_accuracy: 0.7711\n"
     ]
    }
   ],
   "source": [
    "mini_bert_model_history = mini_bert_model.fit(x=X_train, y=y_train,  validation_data=(X_valid, y_valid), epochs=epochs)"
   ]
  },
  {
   "cell_type": "code",
   "execution_count": 266,
   "metadata": {},
   "outputs": [
    {
     "name": "stdout",
     "output_type": "stream",
     "text": [
      "132/132 [==============================] - 5s 41ms/step - loss: 0.5647 - categorical_crossentropy: 0.5647 - accuracy: 0.7729\n"
     ]
    },
    {
     "data": {
      "text/plain": [
       "[0.564741849899292, 0.564741849899292, 0.772857129573822]"
      ]
     },
     "execution_count": 266,
     "metadata": {},
     "output_type": "execute_result"
    }
   ],
   "source": [
    "mini_bert_model.evaluate(X_test,y_test)"
   ]
  },
  {
   "cell_type": "code",
   "execution_count": 267,
   "metadata": {},
   "outputs": [],
   "source": [
    "medium_bert_model_url = \"https://tfhub.dev/tensorflow/small_bert/bert_en_uncased_L-4_H-256_A-4/2\""
   ]
  },
  {
   "cell_type": "code",
   "execution_count": 268,
   "metadata": {},
   "outputs": [],
   "source": [
    "\n",
    "medium_bert_model = build_bert_model(bert_preprocessor_url, tiny_bert_model_url)"
   ]
  },
  {
   "cell_type": "code",
   "execution_count": 269,
   "metadata": {},
   "outputs": [],
   "source": [
    "\n",
    "medium_bert_model.compile(optimizer=optimizer, loss=loss, metrics=[metric, 'accuracy'])\n"
   ]
  },
  {
   "cell_type": "code",
   "execution_count": 270,
   "metadata": {},
   "outputs": [
    {
     "name": "stdout",
     "output_type": "stream",
     "text": [
      "Epoch 1/8\n",
      "438/438 [==============================] - 66s 151ms/step - loss: 0.5295 - categorical_crossentropy: 0.5295 - accuracy: 0.7829 - val_loss: 0.5404 - val_categorical_crossentropy: 0.5404 - val_accuracy: 0.7828\n",
      "Epoch 2/8\n",
      "438/438 [==============================] - 67s 153ms/step - loss: 0.4948 - categorical_crossentropy: 0.4948 - accuracy: 0.8014 - val_loss: 0.5317 - val_categorical_crossentropy: 0.5317 - val_accuracy: 0.7967\n",
      "Epoch 3/8\n",
      "438/438 [==============================] - 66s 151ms/step - loss: 0.4695 - categorical_crossentropy: 0.4695 - accuracy: 0.8144 - val_loss: 0.5192 - val_categorical_crossentropy: 0.5192 - val_accuracy: 0.7994\n",
      "Epoch 4/8\n",
      "438/438 [==============================] - 67s 152ms/step - loss: 0.4445 - categorical_crossentropy: 0.4445 - accuracy: 0.8224 - val_loss: 0.5132 - val_categorical_crossentropy: 0.5132 - val_accuracy: 0.8111\n",
      "Epoch 5/8\n",
      "438/438 [==============================] - 67s 153ms/step - loss: 0.4216 - categorical_crossentropy: 0.4216 - accuracy: 0.8334 - val_loss: 0.5036 - val_categorical_crossentropy: 0.5036 - val_accuracy: 0.8194\n",
      "Epoch 6/8\n",
      "438/438 [==============================] - 67s 153ms/step - loss: 0.3868 - categorical_crossentropy: 0.3868 - accuracy: 0.8485 - val_loss: 0.5144 - val_categorical_crossentropy: 0.5144 - val_accuracy: 0.8106\n",
      "Epoch 7/8\n",
      "438/438 [==============================] - 66s 151ms/step - loss: 0.3686 - categorical_crossentropy: 0.3686 - accuracy: 0.8548 - val_loss: 0.5149 - val_categorical_crossentropy: 0.5149 - val_accuracy: 0.8133\n",
      "Epoch 8/8\n",
      "438/438 [==============================] - 68s 154ms/step - loss: 0.3461 - categorical_crossentropy: 0.3461 - accuracy: 0.8689 - val_loss: 0.5120 - val_categorical_crossentropy: 0.5120 - val_accuracy: 0.8122\n"
     ]
    }
   ],
   "source": [
    "medium_bert_model_history = mini_bert_model.fit(x=X_train, y=y_train,  validation_data=(X_valid, y_valid), epochs=epochs)"
   ]
  },
  {
   "cell_type": "code",
   "execution_count": 272,
   "metadata": {},
   "outputs": [
    {
     "name": "stdout",
     "output_type": "stream",
     "text": [
      "132/132 [==============================] - 6s 42ms/step - loss: 1.1147 - categorical_crossentropy: 1.1147 - accuracy: 0.3960\n"
     ]
    },
    {
     "data": {
      "text/plain": [
       "[1.1146581172943115, 1.1146581172943115, 0.39595237374305725]"
      ]
     },
     "execution_count": 272,
     "metadata": {},
     "output_type": "execute_result"
    }
   ],
   "source": [
    "medium_bert_model.evaluate(X_test,y_test)"
   ]
  },
  {
   "attachments": {},
   "cell_type": "markdown",
   "metadata": {},
   "source": [
    "# Biblio\n",
    "https://www.tensorflow.org/text/tutorials/classify_text_with_bert"
   ]
  }
 ],
 "metadata": {
  "kernelspec": {
   "display_name": "AnalizaSympatiiEnv",
   "language": "python",
   "name": "python3"
  },
  "language_info": {
   "codemirror_mode": {
    "name": "ipython",
    "version": 3
   },
   "file_extension": ".py",
   "mimetype": "text/x-python",
   "name": "python",
   "nbconvert_exporter": "python",
   "pygments_lexer": "ipython3",
   "version": "3.10.6"
  },
  "orig_nbformat": 4
 },
 "nbformat": 4,
 "nbformat_minor": 2
}
